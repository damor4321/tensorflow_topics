{
 "cells": [
  {
   "cell_type": "markdown",
   "metadata": {
    "colab_type": "text",
    "id": "4embtkV0pNxM"
   },
   "source": [
    "Deep Learning\n",
    "=============\n",
    "\n",
    "Assignment 4\n",
    "------------\n",
    "\n",
    "Previously in `2_fullyconnected.ipynb` and `3_regularization.ipynb`, we trained fully connected networks to classify [notMNIST](http://yaroslavvb.blogspot.com/2011/09/notmnist-dataset.html) characters.\n",
    "\n",
    "The goal of this assignment is make the neural network convolutional."
   ]
  },
  {
   "cell_type": "code",
   "execution_count": 1,
   "metadata": {
    "cellView": "both",
    "colab": {
     "autoexec": {
      "startup": false,
      "wait_interval": 0
     }
    },
    "colab_type": "code",
    "collapsed": true,
    "id": "tm2CQN_Cpwj0"
   },
   "outputs": [],
   "source": [
    "# These are all the modules we'll be using later. Make sure you can import them\n",
    "# before proceeding further.\n",
    "from __future__ import print_function\n",
    "import numpy as np\n",
    "import tensorflow as tf\n",
    "from six.moves import cPickle as pickle\n",
    "from six.moves import range"
   ]
  },
  {
   "cell_type": "code",
   "execution_count": 2,
   "metadata": {
    "cellView": "both",
    "colab": {
     "autoexec": {
      "startup": false,
      "wait_interval": 0
     },
     "output_extras": [
      {
       "item_id": 1
      }
     ]
    },
    "colab_type": "code",
    "collapsed": false,
    "executionInfo": {
     "elapsed": 11948,
     "status": "ok",
     "timestamp": 1446658914837,
     "user": {
      "color": "",
      "displayName": "",
      "isAnonymous": false,
      "isMe": true,
      "permissionId": "",
      "photoUrl": "",
      "sessionId": "0",
      "userId": ""
     },
     "user_tz": 480
    },
    "id": "y3-cj1bpmuxc",
    "outputId": "016b1a51-0290-4b08-efdb-8c95ffc3cd01"
   },
   "outputs": [
    {
     "name": "stdout",
     "output_type": "stream",
     "text": [
      "Training set (200000, 28, 28) (200000,)\n",
      "Validation set (10000, 28, 28) (10000,)\n",
      "Test set (10000, 28, 28) (10000,)\n"
     ]
    }
   ],
   "source": [
    "pickle_file = 'notMNIST.pickle'\n",
    "\n",
    "with open(pickle_file, 'rb') as f:\n",
    "  save = pickle.load(f)\n",
    "  train_dataset = save['train_dataset']\n",
    "  train_labels = save['train_labels']\n",
    "  valid_dataset = save['valid_dataset']\n",
    "  valid_labels = save['valid_labels']\n",
    "  test_dataset = save['test_dataset']\n",
    "  test_labels = save['test_labels']\n",
    "  del save  # hint to help gc free up memory\n",
    "  print('Training set', train_dataset.shape, train_labels.shape)\n",
    "  print('Validation set', valid_dataset.shape, valid_labels.shape)\n",
    "  print('Test set', test_dataset.shape, test_labels.shape)"
   ]
  },
  {
   "cell_type": "markdown",
   "metadata": {
    "colab_type": "text",
    "id": "L7aHrm6nGDMB"
   },
   "source": [
    "Reformat into a TensorFlow-friendly shape:\n",
    "- convolutions need the image data formatted as a cube (width by height by #channels)\n",
    "- labels as float 1-hot encodings."
   ]
  },
  {
   "cell_type": "code",
   "execution_count": 3,
   "metadata": {
    "cellView": "both",
    "colab": {
     "autoexec": {
      "startup": false,
      "wait_interval": 0
     },
     "output_extras": [
      {
       "item_id": 1
      }
     ]
    },
    "colab_type": "code",
    "collapsed": false,
    "executionInfo": {
     "elapsed": 11952,
     "status": "ok",
     "timestamp": 1446658914857,
     "user": {
      "color": "",
      "displayName": "",
      "isAnonymous": false,
      "isMe": true,
      "permissionId": "",
      "photoUrl": "",
      "sessionId": "0",
      "userId": ""
     },
     "user_tz": 480
    },
    "id": "IRSyYiIIGIzS",
    "outputId": "650a208c-8359-4852-f4f5-8bf10e80ef6c"
   },
   "outputs": [
    {
     "name": "stdout",
     "output_type": "stream",
     "text": [
      "Training set (200000, 28, 28, 1) (200000, 10)\n",
      "Validation set (10000, 28, 28, 1) (10000, 10)\n",
      "Test set (10000, 28, 28, 1) (10000, 10)\n"
     ]
    }
   ],
   "source": [
    "image_size = 28\n",
    "num_labels = 10\n",
    "num_channels = 1 # grayscale\n",
    "\n",
    "import numpy as np\n",
    "\n",
    "def reformat(dataset, labels):\n",
    "  dataset = dataset.reshape(\n",
    "    (-1, image_size, image_size, num_channels)).astype(np.float32)\n",
    "  labels = (np.arange(num_labels) == labels[:,None]).astype(np.float32)\n",
    "  return dataset, labels\n",
    "train_dataset, train_labels = reformat(train_dataset, train_labels)\n",
    "valid_dataset, valid_labels = reformat(valid_dataset, valid_labels)\n",
    "test_dataset, test_labels = reformat(test_dataset, test_labels)\n",
    "print('Training set', train_dataset.shape, train_labels.shape)\n",
    "print('Validation set', valid_dataset.shape, valid_labels.shape)\n",
    "print('Test set', test_dataset.shape, test_labels.shape)"
   ]
  },
  {
   "cell_type": "code",
   "execution_count": 4,
   "metadata": {
    "cellView": "both",
    "colab": {
     "autoexec": {
      "startup": false,
      "wait_interval": 0
     }
    },
    "colab_type": "code",
    "collapsed": true,
    "id": "AgQDIREv02p1"
   },
   "outputs": [],
   "source": [
    "def accuracy(predictions, labels):\n",
    "  return (100.0 * np.sum(np.argmax(predictions, 1) == np.argmax(labels, 1))\n",
    "          / predictions.shape[0])"
   ]
  },
  {
   "cell_type": "markdown",
   "metadata": {
    "colab_type": "text",
    "id": "5rhgjmROXu2O"
   },
   "source": [
    "Let's build a small network with two convolutional layers, followed by one fully connected layer. Convolutional networks are more expensive computationally, so we'll limit its depth and number of fully connected nodes."
   ]
  },
  {
   "cell_type": "code",
   "execution_count": 5,
   "metadata": {
    "collapsed": false
   },
   "outputs": [
    {
     "name": "stdout",
     "output_type": "stream",
     "text": [
      "DATASET:  (16, 784) (16, 10)\n",
      "PARAMS:  (784, 1024) (1024,)\n",
      "LOGITS:  (16, 1024) (16, 1024)\n"
     ]
    }
   ],
   "source": [
    "#DAF understanding\n",
    "#tf_train_dataset = tf.placeholder(tf.float32, shape=(batch_size, image_size * image_size))\n",
    "#tf_train_labels = tf.placeholder(tf.float32, shape=(batch_size, num_labels))\n",
    "#weights1 = tf.Variable(tf.truncated_normal([image_size * image_size, H])) H=number of nodes of the hidden layer\n",
    "#biases1 = tf.Variable(tf.zeros([H]))\n",
    "#logits1 = tf.matmul(tf_train_dataset, weights1) + biases1\n",
    "\n",
    "#DAF: understanding (with the help of numpy)\n",
    "#my_features = np.array([[1., 2.], [3., 4.], [5., 6.], [7., 8.]])\n",
    "#my_weights = np.array([0.4, 0.5])\n",
    "#my_predictions = np.dot(my_features, my_weights) # note that the weights are on the right\n",
    "#print(my_predictions) # which has 4 elements since my_features has 4 rows\n",
    "#train_data_ = np.ndarray(shape=(16,28*28), dtype=np.float32)\n",
    "#train_data_ = np.random.rand(16,28*28)\n",
    "\n",
    "train_data_ = np.full((16, 28*28), 1.0)\n",
    "train_labels_ = np.full((16, 10), 1.0)\n",
    "weights1_ = np.random.rand(28*28, 1024)\n",
    "biases1_ = np.full(1024,1.0)\n",
    "print(\"DATASET: \", train_data_.shape , train_labels_.shape)\n",
    "print(\"PARAMS: \", weights1_.shape, biases1_.shape)\n",
    "prod_ = np.dot(train_data_, weights1_)\n",
    "logits1_ = prod_ + biases1_\n",
    "print(\"LOGITS: \", prod_.shape, logits1_.shape)"
   ]
  },
  {
   "cell_type": "code",
   "execution_count": 6,
   "metadata": {
    "collapsed": false
   },
   "outputs": [],
   "source": [
    "#import time\n",
    "#start_time = time.time()\n",
    "#train_dataset_orig = train_dataset\n",
    "#train_labels_orig = train_labels\n",
    "#train_dataset = train_dataset[0:32]\n",
    "#train_labels = train_labels[0:32]"
   ]
  },
  {
   "cell_type": "code",
   "execution_count": 7,
   "metadata": {
    "cellView": "both",
    "colab": {
     "autoexec": {
      "startup": false,
      "wait_interval": 0
     }
    },
    "colab_type": "code",
    "collapsed": false,
    "id": "IZYv70SvvOan"
   },
   "outputs": [
    {
     "name": "stdout",
     "output_type": "stream",
     "text": [
      "-> C1.SHAPES WITH STRIDES=[1, 2, 2, 1]: [input(=data):(16, 28, 28, 1) | filter(=layer1_weights):(5, 5, 1, 16) -> output(=conv1):(16, 14, 14, 16)]\n",
      "-> C1.HIDDEN SHAPES: [conv1:(16, 14, 14, 16) | layer1_biases:(16,) -> output(=hidden1):(16, 14, 14, 16)\n",
      "\n",
      "--> C2.SHAPES WITH STRIDES=[1, 2, 2, 1]: [input(=hidden1):(16, 14, 14, 16) | filter(=layer2_weights):(5, 5, 16, 16) -> output(=conv2):(16, 7, 7, 16)]\n",
      "--> C2.HIDDEN SHAPES: [conv2:(16, 7, 7, 16) | layer2_biases:(16,) -> output(=hidden2):(16, 7, 7, 16)\n",
      "\n",
      "---> FULLCONN FIRST LAYER SHAPES MATMUL: [hidden reshaped(=reshape2):(16, 784) | layer3_weights:(784, 64) -> output(=prod3):(16, 64)\n",
      "---> FULLCONN FIRST LAYER HIDDEN: prod3:(16, 64) | layer3_biases:(64,) -> output(=hidden3):(16, 64)\n",
      "\n",
      "----> FULLCONN LAST LAYER SHAPES MATMUL: [hidden3:(16, 64) | layer4_weights:(64, 10) -> output(=prod4):(16, 10)\n",
      "----> FULLCONN LAST LAYER HIDDEN: prod4:(16, 10) | layer4_biases:(10,) -> output:(16, 10)\n",
      "\n"
     ]
    }
   ],
   "source": [
    "#image_size = 28\n",
    "#num_labels = 10\n",
    "#num_channels = 1 # grayscale\n",
    "\n",
    "batch_size = 16\n",
    "patch_size = 5\n",
    "depth = 16\n",
    "num_hidden = 64\n",
    "\n",
    "graph = tf.Graph()\n",
    "\n",
    "with graph.as_default():\n",
    "\n",
    "  # Input data.\n",
    "  tf_train_dataset = tf.placeholder(tf.float32, shape=(batch_size, image_size, image_size, num_channels)) #shape=(16,28,28,1)\n",
    "  tf_train_labels = tf.placeholder(tf.float32, shape=(batch_size, num_labels)) #shape=(16,10)\n",
    "\n",
    "  tf_valid_dataset = tf.constant(valid_dataset)\n",
    "  tf_test_dataset = tf.constant(test_dataset)\n",
    "  \n",
    "  # Variables.\n",
    "  layer1_weights = tf.Variable(tf.truncated_normal([patch_size, patch_size, num_channels, depth], stddev=0.1)) #shape=(5,5,1,16)\n",
    "  layer1_biases = tf.Variable(tf.zeros([depth])) #shape=(16,)\n",
    "\n",
    "  \n",
    "  layer2_weights = tf.Variable(tf.truncated_normal([patch_size, patch_size, depth, depth], stddev=0.1)) #shape=(5,5,16,16)\n",
    "  layer2_biases = tf.Variable(tf.constant(1.0, shape=[depth])) #shape=(16,)\n",
    "\n",
    "  \n",
    "  layer3_weights = tf.Variable(tf.truncated_normal(\n",
    "      [image_size // 4 * image_size // 4 * depth, num_hidden], stddev=0.1)) #shape=(784,64) , 28//4*28//4*16 = 7*7*16 = 784 \n",
    "  layer3_biases = tf.Variable(tf.constant(1.0, shape=[num_hidden])) #shape=(64,)\n",
    "  \n",
    "  layer4_weights = tf.Variable(tf.truncated_normal([num_hidden, num_labels], stddev=0.1)) #shape(64,10)\n",
    "  layer4_biases = tf.Variable(tf.constant(1.0, shape=[num_labels])) #shape(10,)\n",
    "  \n",
    "  # Model.\n",
    "  def model(data, verbose=False):\n",
    "    conv1 = tf.nn.conv2d(data, layer1_weights, [1, 2, 2, 1], padding='SAME')\n",
    "    hidden1 = tf.nn.relu(conv1 + layer1_biases)\n",
    "    \n",
    "    if verbose == True:\n",
    "        print(\"-> C1.SHAPES WITH STRIDES={}: [input(=data):{} | filter(=layer1_weights):{} -> output(=conv1):{}]\".format(\n",
    "            '[1, 2, 2, 1]', data.shape, layer1_weights.shape, conv1.shape))\n",
    "        print(\"-> C1.HIDDEN SHAPES: [conv1:{} | layer1_biases:{} -> output(=hidden1):{}\\n\".format(\n",
    "                conv1.shape, layer1_biases.shape, hidden1.shape))\n",
    "    \n",
    "    conv2 = tf.nn.conv2d(hidden1, layer2_weights, [1, 2, 2, 1], padding='SAME')\n",
    "    hidden2 = tf.nn.relu(conv2 + layer2_biases)\n",
    "\n",
    "    if verbose == True:\n",
    "        print(\"--> C2.SHAPES WITH STRIDES={}: [input(=hidden1):{} | filter(=layer2_weights):{} -> output(=conv2):{}]\".format(\n",
    "            '[1, 2, 2, 1]', hidden1.shape, layer2_weights.shape, conv2.shape))\n",
    "        print(\"--> C2.HIDDEN SHAPES: [conv2:{} | layer2_biases:{} -> output(=hidden2):{}\\n\".format(\n",
    "                conv2.shape, layer2_biases.shape, hidden2.shape))\n",
    "\n",
    "    shape = hidden2.get_shape().as_list()\n",
    "    \n",
    "    reshape2 = tf.reshape(hidden2, [shape[0], shape[1] * shape[2] * shape[3]])\n",
    "    #hidden = tf.nn.relu(tf.matmul(reshape, layer3_weights) + layer3_biases)\n",
    "    prod3 = tf.matmul(reshape2, layer3_weights)\n",
    "    hidden3 = tf.nn.relu(prod3 + layer3_biases)\n",
    "    \n",
    "    if verbose == True:\n",
    "        print(\"---> FULLCONN FIRST LAYER SHAPES MATMUL: [hidden reshaped(=reshape2):{} | layer3_weights:{} -> output(=prod3):{}\".format(\n",
    "                reshape2.shape, layer3_weights.shape, prod3.shape))\n",
    "        print(\"---> FULLCONN FIRST LAYER HIDDEN: prod3:{} | layer3_biases:{} -> output(=hidden3):{}\\n\".format(\n",
    "            prod3.shape, layer3_biases.shape, hidden3.shape))\n",
    "    \n",
    "    #return tf.matmul(hidden, layer4_weights) + layer4_biases\n",
    "    prod4 = tf.matmul(hidden3, layer4_weights)\n",
    "    output = prod4 + layer4_biases\n",
    "\n",
    "    if verbose == True:\n",
    "        print(\"----> FULLCONN LAST LAYER SHAPES MATMUL: [hidden3:{} | layer4_weights:{} -> output(=prod4):{}\".format(\n",
    "                hidden3.shape, layer4_weights.shape, prod4.shape))\n",
    "        print(\"----> FULLCONN LAST LAYER HIDDEN: prod4:{} | layer4_biases:{} -> output:{}\\n\".format(\n",
    "            prod4.shape, layer4_biases.shape, output.shape))    \n",
    "    \n",
    "    return output\n",
    "\n",
    "  # Training computation.\n",
    "  logits = model(tf_train_dataset, verbose=True)\n",
    "  loss = tf.reduce_mean(\n",
    "    tf.nn.softmax_cross_entropy_with_logits(labels=tf_train_labels, logits=logits))\n",
    "    \n",
    "  # Optimizer.\n",
    "  optimizer = tf.train.GradientDescentOptimizer(0.05).minimize(loss)\n",
    "  \n",
    "  # Predictions for the training, validation, and test data.\n",
    "  train_prediction = tf.nn.softmax(logits)\n",
    "  valid_prediction = tf.nn.softmax(model(tf_valid_dataset))\n",
    "  test_prediction = tf.nn.softmax(model(tf_test_dataset))"
   ]
  },
  {
   "cell_type": "code",
   "execution_count": null,
   "metadata": {
    "cellView": "both",
    "colab": {
     "autoexec": {
      "startup": false,
      "wait_interval": 0
     },
     "output_extras": [
      {
       "item_id": 37
      }
     ]
    },
    "colab_type": "code",
    "collapsed": false,
    "executionInfo": {
     "elapsed": 63292,
     "status": "ok",
     "timestamp": 1446658966251,
     "user": {
      "color": "",
      "displayName": "",
      "isAnonymous": false,
      "isMe": true,
      "permissionId": "",
      "photoUrl": "",
      "sessionId": "0",
      "userId": ""
     },
     "user_tz": 480
    },
    "id": "noKFb2UovVFR",
    "outputId": "28941338-2ef9-4088-8bd1-44295661e628"
   },
   "outputs": [
    {
     "name": "stdout",
     "output_type": "stream",
     "text": [
      "Initialized\n"
     ]
    }
   ],
   "source": [
    "num_steps = 1001\n",
    "\n",
    "with tf.Session(graph=graph) as session:\n",
    "\n",
    "  tf.global_variables_initializer().run()\n",
    "  print('Initialized')\n",
    "  \n",
    "  for step in range(num_steps):\n",
    "    \n",
    "    offset = (step * batch_size) % (train_labels.shape[0] - batch_size)\n",
    "    batch_data = train_dataset[offset:(offset + batch_size), :, :, :]\n",
    "    batch_labels = train_labels[offset:(offset + batch_size), :]\n",
    "    \n",
    "    feed_dict = {tf_train_dataset : batch_data, tf_train_labels : batch_labels}\n",
    "    \n",
    "    _, l, predictions = session.run([optimizer, loss, train_prediction], feed_dict=feed_dict)\n",
    "    \n",
    "    if (step % 50 == 0):\n",
    "      print('Minibatch loss at step %d: %f' % (step, l))\n",
    "      print('Minibatch accuracy: %.1f%%' % accuracy(predictions, batch_labels))\n",
    "      print('Validation accuracy: %.1f%%' % accuracy(valid_prediction.eval(), valid_labels))\n",
    "    \n",
    "  print('Test accuracy: %.1f%%' % accuracy(test_prediction.eval(), test_labels))"
   ]
  },
  {
   "cell_type": "code",
   "execution_count": 9,
   "metadata": {
    "collapsed": false
   },
   "outputs": [
    {
     "name": "stdout",
     "output_type": "stream",
     "text": [
      "step 0: batch_data = train_dataset[0:16, :, :, :]\n",
      "step 1: batch_data = train_dataset[16:32, :, :, :]\n",
      "step 2: batch_data = train_dataset[32:48, :, :, :]\n",
      "step 3: batch_data = train_dataset[48:64, :, :, :]\n",
      "step 4: batch_data = train_dataset[64:80, :, :, :]\n",
      "step 5: batch_data = train_dataset[80:96, :, :, :]\n",
      "step 6: batch_data = train_dataset[96:112, :, :, :]\n",
      "step 7: batch_data = train_dataset[112:128, :, :, :]\n",
      "step 8: batch_data = train_dataset[128:144, :, :, :]\n",
      "step 9: batch_data = train_dataset[144:160, :, :, :]\n",
      "step 10: batch_data = train_dataset[160:176, :, :, :]\n",
      "step 11: batch_data = train_dataset[176:192, :, :, :]\n",
      "step 12: batch_data = train_dataset[192:208, :, :, :]\n",
      "step 13: batch_data = train_dataset[208:224, :, :, :]\n",
      "step 14: batch_data = train_dataset[224:240, :, :, :]\n",
      "step 15: batch_data = train_dataset[240:256, :, :, :]\n",
      "step 16: batch_data = train_dataset[256:272, :, :, :]\n",
      "step 17: batch_data = train_dataset[272:288, :, :, :]\n",
      "step 18: batch_data = train_dataset[4:20, :, :, :]\n",
      "step 19: batch_data = train_dataset[20:36, :, :, :]\n",
      "step 20: batch_data = train_dataset[36:52, :, :, :]\n",
      "step 21: batch_data = train_dataset[52:68, :, :, :]\n",
      "step 22: batch_data = train_dataset[68:84, :, :, :]\n",
      "step 23: batch_data = train_dataset[84:100, :, :, :]\n",
      "step 24: batch_data = train_dataset[100:116, :, :, :]\n",
      "step 25: batch_data = train_dataset[116:132, :, :, :]\n",
      "step 26: batch_data = train_dataset[132:148, :, :, :]\n",
      "step 27: batch_data = train_dataset[148:164, :, :, :]\n",
      "step 28: batch_data = train_dataset[164:180, :, :, :]\n",
      "step 29: batch_data = train_dataset[180:196, :, :, :]\n",
      "step 30: batch_data = train_dataset[196:212, :, :, :]\n",
      "step 31: batch_data = train_dataset[212:228, :, :, :]\n",
      "step 32: batch_data = train_dataset[228:244, :, :, :]\n",
      "step 33: batch_data = train_dataset[244:260, :, :, :]\n",
      "step 34: batch_data = train_dataset[260:276, :, :, :]\n",
      "step 35: batch_data = train_dataset[276:292, :, :, :]\n",
      "step 36: batch_data = train_dataset[8:24, :, :, :]\n",
      "step 37: batch_data = train_dataset[24:40, :, :, :]\n",
      "step 38: batch_data = train_dataset[40:56, :, :, :]\n",
      "step 39: batch_data = train_dataset[56:72, :, :, :]\n",
      "step 40: batch_data = train_dataset[72:88, :, :, :]\n",
      "step 41: batch_data = train_dataset[88:104, :, :, :]\n",
      "step 42: batch_data = train_dataset[104:120, :, :, :]\n",
      "step 43: batch_data = train_dataset[120:136, :, :, :]\n",
      "step 44: batch_data = train_dataset[136:152, :, :, :]\n",
      "step 45: batch_data = train_dataset[152:168, :, :, :]\n",
      "step 46: batch_data = train_dataset[168:184, :, :, :]\n",
      "step 47: batch_data = train_dataset[184:200, :, :, :]\n",
      "step 48: batch_data = train_dataset[200:216, :, :, :]\n",
      "step 49: batch_data = train_dataset[216:232, :, :, :]\n",
      "step 50: batch_data = train_dataset[232:248, :, :, :]\n"
     ]
    }
   ],
   "source": [
    "#DAF understanding: offset + repeated batches (i.e. few *different* batches) limiting train_dataset_size=300\n",
    "\n",
    "batch_size=16\n",
    "train_dataset_size=300\n",
    "num_steps = 1001\n",
    "for step in range(num_steps):\n",
    "\n",
    "    #offset = (step * batch_size) % (train_labels.shape[0] - batch_size)\n",
    "    offset = (step * batch_size) % (train_dataset_size - batch_size) # para este caso es (step * batch_size) % 284\n",
    "    # Generate a minibatch.\n",
    "    print(\"step {}: batch_data = train_dataset[{}:{}, :, :, :]\".format(step, offset, offset + batch_size))\n",
    "    if(step == 50): break"
   ]
  },
  {
   "cell_type": "code",
   "execution_count": null,
   "metadata": {
    "collapsed": true
   },
   "outputs": [],
   "source": [
    "#train_dataset = train_dataset_orig\n",
    "#train_labels = train_labels_orig\n",
    "#print(\"--- %s seconds ---\" % (time.time() - start_time))"
   ]
  },
  {
   "cell_type": "markdown",
   "metadata": {
    "colab_type": "text",
    "id": "KedKkn4EutIK"
   },
   "source": [
    "---\n",
    "Problem 1\n",
    "---------\n",
    "\n",
    "The convolutional model above uses convolutions with stride 2 to reduce the dimensionality. Replace the strides by a max pooling operation (`nn.max_pool()`) of stride 2 and kernel size 2.\n",
    "\n",
    "---"
   ]
  },
  {
   "cell_type": "code",
   "execution_count": 19,
   "metadata": {
    "collapsed": false
   },
   "outputs": [
    {
     "name": "stdout",
     "output_type": "stream",
     "text": [
      "-> C1.SHAPES WITH STRIDES=[1, 2, 2, 1]: [input(=data):(16, 28, 28, 1) | filter(=layer1_weights):(5, 5, 1, 16) -> output(=conv1):(16, 28, 28, 16)]\n",
      "-> C1.HIDDEN+MAXPOOL SHAPES: [conv1:(16, 28, 28, 16) | layer1_biases:(16,) -> output(=hidden1):(16, 28, 28, 16) -> maxpool1:(16, 14, 14, 16)]\n",
      "\n",
      "--> C2.SHAPES WITH STRIDES=[1, 2, 2, 1]: [input(=maxpool1):(16, 14, 14, 16) | filter(=layer2_weights):(5, 5, 16, 16) -> output(=conv2):(16, 14, 14, 16)]\n",
      "--> C2.HIDDEN+MAXPOOL SHAPES: [conv2:(16, 14, 14, 16) | layer2_biases:(16,) -> output(=hidden2):(16, 14, 14, 16) -> maxpool2:(16, 7, 7, 16)]\n",
      "\n",
      "---> FULLCONN FIRST LAYER SHAPES MATMUL: [hidden reshaped(=reshape2):(16, 784) | layer3_weights:(784, 64) -> output(=prod3):(16, 64)\n",
      "---> FULLCONN FIRST LAYER HIDDEN: prod3:(16, 64) | layer3_biases:(64,) -> output(=hidden3):(16, 64)\n",
      "\n",
      "----> FULLCONN LAST LAYER SHAPES MATMUL: [hidden3:(16, 64) | layer4_weights:(64, 10) -> output(=prod4):(16, 10)\n",
      "----> FULLCONN LAST LAYER HIDDEN: prod4:(16, 10) | layer4_biases:(10,) -> output:(16, 10)\n",
      "\n"
     ]
    }
   ],
   "source": [
    "#image_size = 28\n",
    "#num_labels = 10\n",
    "#num_channels = 1 # grayscale\n",
    "\n",
    "batch_size = 16\n",
    "patch_size = 5\n",
    "depth = 16\n",
    "num_hidden = 64\n",
    "\n",
    "graph = tf.Graph()\n",
    "\n",
    "with graph.as_default():\n",
    "\n",
    "  # Input data.\n",
    "  tf_train_dataset = tf.placeholder(tf.float32, shape=(batch_size, image_size, image_size, num_channels)) #shape=(16,28,28,1)\n",
    "  tf_train_labels = tf.placeholder(tf.float32, shape=(batch_size, num_labels)) #shape=(16,10)\n",
    "\n",
    "  tf_valid_dataset = tf.constant(valid_dataset)\n",
    "  tf_test_dataset = tf.constant(test_dataset)\n",
    "  \n",
    "  # Variables.\n",
    "  layer1_weights = tf.Variable(tf.truncated_normal([patch_size, patch_size, num_channels, depth], stddev=0.1)) #shape=(5,5,1,16)\n",
    "  layer1_biases = tf.Variable(tf.zeros([depth])) #shape=(16,)\n",
    "\n",
    "  \n",
    "  layer2_weights = tf.Variable(tf.truncated_normal([patch_size, patch_size, depth, depth], stddev=0.1)) #shape=(5,5,16,16)\n",
    "  layer2_biases = tf.Variable(tf.constant(1.0, shape=[depth])) #shape=(16,)\n",
    "\n",
    "  \n",
    "  layer3_weights = tf.Variable(tf.truncated_normal(\n",
    "      [28 // 4 * 28 // 4 * depth, num_hidden], stddev=0.1)) #shape=(784,64) , 28//4*28//4*16 = 7*7*16 = 784 \n",
    "  layer3_biases = tf.Variable(tf.constant(1.0, shape=[num_hidden])) #shape=(64,)\n",
    "  \n",
    "  layer4_weights = tf.Variable(tf.truncated_normal([num_hidden, num_labels], stddev=0.1)) #shape(64,10)\n",
    "  layer4_biases = tf.Variable(tf.constant(1.0, shape=[num_labels])) #shape(10,)\n",
    "  \n",
    "  # Model.\n",
    "  def model(data, verbose=False):\n",
    "    conv1 = tf.nn.conv2d(data, layer1_weights, [1, 1, 1, 1], padding='SAME') #EL STRIDE DE 2 AHORA NO LO APLICA conv2d SINO max_pool \n",
    "    hidden1 = tf.nn.relu(conv1 + layer1_biases)\n",
    "    maxpool1 = tf.nn.max_pool(hidden1, ksize=[1, 2, 2, 1], strides=[1, 2, 2, 1], padding='SAME')\n",
    "    \n",
    "    if verbose == True:\n",
    "        print(\"-> C1.SHAPES WITH STRIDES={}: [input(=data):{} | filter(=layer1_weights):{} -> output(=conv1):{}]\".format(\n",
    "            '[1, 2, 2, 1]', data.shape, layer1_weights.shape, conv1.shape))\n",
    "        print(\"-> C1.HIDDEN+MAXPOOL SHAPES: [conv1:{} | layer1_biases:{} -> output(=hidden1):{} -> maxpool1:{}]\\n\".format(\n",
    "                conv1.shape, layer1_biases.shape, hidden1.shape, maxpool1.shape))\n",
    "    \n",
    "    conv2 = tf.nn.conv2d(maxpool1, layer2_weights, [1, 1, 1, 1], padding='SAME') #EL STRIDE DE 2 AHORA NO LO APLICA conv2d SINO max_pool\n",
    "    hidden2 = tf.nn.relu(conv2 + layer2_biases)\n",
    "    maxpool2 = tf.nn.max_pool(hidden2, ksize=[1, 2, 2, 1], strides=[1, 2, 2, 1], padding='SAME')\n",
    "\n",
    "    if verbose == True:\n",
    "        print(\"--> C2.SHAPES WITH STRIDES={}: [input(=maxpool1):{} | filter(=layer2_weights):{} -> output(=conv2):{}]\".format(\n",
    "            '[1, 2, 2, 1]', maxpool1.shape, layer2_weights.shape, conv2.shape))\n",
    "        print(\"--> C2.HIDDEN+MAXPOOL SHAPES: [conv2:{} | layer2_biases:{} -> output(=hidden2):{} -> maxpool2:{}]\\n\".format(\n",
    "                conv2.shape, layer2_biases.shape, hidden2.shape, maxpool2.shape))\n",
    "\n",
    "    shape = maxpool2.get_shape().as_list()\n",
    "    \n",
    "    reshape2 = tf.reshape(maxpool2, [shape[0], shape[1] * shape[2] * shape[3]])\n",
    "    prod3 = tf.matmul(reshape2, layer3_weights)\n",
    "    hidden3 = tf.nn.relu(prod3 + layer3_biases)\n",
    "    \n",
    "    if verbose == True:\n",
    "        print(\"---> FULLCONN FIRST LAYER SHAPES MATMUL: [hidden reshaped(=reshape2):{} | layer3_weights:{} -> output(=prod3):{}\".format(\n",
    "                reshape2.shape, layer3_weights.shape, prod3.shape))\n",
    "        print(\"---> FULLCONN FIRST LAYER HIDDEN: prod3:{} | layer3_biases:{} -> output(=hidden3):{}\\n\".format(\n",
    "            prod3.shape, layer3_biases.shape, hidden3.shape))\n",
    "    \n",
    "    prod4 = tf.matmul(hidden3, layer4_weights)\n",
    "    output = prod4 + layer4_biases\n",
    "\n",
    "    if verbose == True:\n",
    "        print(\"----> FULLCONN LAST LAYER SHAPES MATMUL: [hidden3:{} | layer4_weights:{} -> output(=prod4):{}\".format(\n",
    "                hidden3.shape, layer4_weights.shape, prod4.shape))\n",
    "        print(\"----> FULLCONN LAST LAYER HIDDEN: prod4:{} | layer4_biases:{} -> output:{}\\n\".format(\n",
    "            prod4.shape, layer4_biases.shape, output.shape))    \n",
    "    \n",
    "    return output\n",
    "\n",
    "  # Training computation.\n",
    "  logits = model(tf_train_dataset, verbose=True)\n",
    "  loss = tf.reduce_mean(\n",
    "    tf.nn.softmax_cross_entropy_with_logits(labels=tf_train_labels, logits=logits))\n",
    "    \n",
    "  # Optimizer.\n",
    "  optimizer = tf.train.GradientDescentOptimizer(0.05).minimize(loss)\n",
    "  \n",
    "  # Predictions for the training, validation, and test data.\n",
    "  train_prediction = tf.nn.softmax(logits)\n",
    "  valid_prediction = tf.nn.softmax(model(tf_valid_dataset))\n",
    "  test_prediction = tf.nn.softmax(model(tf_test_dataset))"
   ]
  },
  {
   "cell_type": "markdown",
   "metadata": {
    "colab_type": "text",
    "id": "klf21gpbAgb-"
   },
   "source": [
    "---\n",
    "Problem 2\n",
    "---------\n",
    "\n",
    "Try to get the best performance you can using a convolutional net. Look for example at the classic [LeNet5](http://yann.lecun.com/exdb/lenet/) architecture, adding Dropout, and/or adding learning rate decay.\n",
    "\n",
    "---"
   ]
  }
 ],
 "metadata": {
  "colab": {
   "default_view": {},
   "name": "4_convolutions.ipynb",
   "provenance": [],
   "version": "0.3.2",
   "views": {}
  },
  "kernelspec": {
   "display_name": "Python 2",
   "language": "python",
   "name": "python2"
  },
  "language_info": {
   "codemirror_mode": {
    "name": "ipython",
    "version": 2
   },
   "file_extension": ".py",
   "mimetype": "text/x-python",
   "name": "python",
   "nbconvert_exporter": "python",
   "pygments_lexer": "ipython2",
   "version": "2.7.13"
  }
 },
 "nbformat": 4,
 "nbformat_minor": 0
}
